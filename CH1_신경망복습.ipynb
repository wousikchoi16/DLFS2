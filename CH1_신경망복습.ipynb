{
 "cells": [
  {
   "cell_type": "code",
   "execution_count": 1,
   "id": "2c9b0448",
   "metadata": {},
   "outputs": [],
   "source": [
    "import numpy as np"
   ]
  },
  {
   "cell_type": "code",
   "execution_count": 2,
   "id": "343eb578",
   "metadata": {},
   "outputs": [
    {
     "data": {
      "text/plain": [
       "numpy.ndarray"
      ]
     },
     "execution_count": 2,
     "metadata": {},
     "output_type": "execute_result"
    }
   ],
   "source": [
    "x = np.array([1,2,3])\n",
    "x.__class__"
   ]
  },
  {
   "cell_type": "code",
   "execution_count": 3,
   "id": "c4d8e08b",
   "metadata": {},
   "outputs": [
    {
     "data": {
      "text/plain": [
       "(3,)"
      ]
     },
     "execution_count": 3,
     "metadata": {},
     "output_type": "execute_result"
    }
   ],
   "source": [
    "x.shape"
   ]
  },
  {
   "cell_type": "code",
   "execution_count": 4,
   "id": "84af9288",
   "metadata": {},
   "outputs": [
    {
     "data": {
      "text/plain": [
       "1"
      ]
     },
     "execution_count": 4,
     "metadata": {},
     "output_type": "execute_result"
    }
   ],
   "source": [
    "x.ndim"
   ]
  },
  {
   "cell_type": "code",
   "execution_count": 6,
   "id": "ba6e681a",
   "metadata": {},
   "outputs": [
    {
     "data": {
      "text/plain": [
       "(2, 3)"
      ]
     },
     "execution_count": 6,
     "metadata": {},
     "output_type": "execute_result"
    }
   ],
   "source": [
    "W = np.array([[1,2,3],[4,5,6]])\n",
    "W.shape"
   ]
  },
  {
   "cell_type": "code",
   "execution_count": 7,
   "id": "335e9aa0",
   "metadata": {},
   "outputs": [
    {
     "data": {
      "text/plain": [
       "2"
      ]
     },
     "execution_count": 7,
     "metadata": {},
     "output_type": "execute_result"
    }
   ],
   "source": [
    "W.ndim"
   ]
  },
  {
   "cell_type": "markdown",
   "id": "d11e5787",
   "metadata": {},
   "source": [
    "### 1.1.2 행렬의 원소별 연산"
   ]
  },
  {
   "cell_type": "code",
   "execution_count": 8,
   "id": "7bf6ef32",
   "metadata": {},
   "outputs": [
    {
     "data": {
      "text/plain": [
       "array([[ 1,  3,  5],\n",
       "       [ 7,  9, 11]])"
      ]
     },
     "execution_count": 8,
     "metadata": {},
     "output_type": "execute_result"
    }
   ],
   "source": [
    "W=np.array([[1,2,3],[4,5,6]])\n",
    "X=np.array([[0,1,2],[3,4,5]])\n",
    "W+X"
   ]
  },
  {
   "cell_type": "code",
   "execution_count": 9,
   "id": "f4a776d8",
   "metadata": {},
   "outputs": [
    {
     "data": {
      "text/plain": [
       "array([[ 0,  2,  6],\n",
       "       [12, 20, 30]])"
      ]
     },
     "execution_count": 9,
     "metadata": {},
     "output_type": "execute_result"
    }
   ],
   "source": [
    "W*X"
   ]
  },
  {
   "cell_type": "markdown",
   "id": "7614ca7f",
   "metadata": {},
   "source": [
    "### 1.1.3. 브로드캐스트"
   ]
  },
  {
   "cell_type": "code",
   "execution_count": 10,
   "id": "29e59390",
   "metadata": {},
   "outputs": [
    {
     "data": {
      "text/plain": [
       "array([[10, 20],\n",
       "       [30, 40]])"
      ]
     },
     "execution_count": 10,
     "metadata": {},
     "output_type": "execute_result"
    }
   ],
   "source": [
    "A = np.array([[1,2],[3,4]])\n",
    "A*10"
   ]
  },
  {
   "cell_type": "code",
   "execution_count": 11,
   "id": "1dc1e76c",
   "metadata": {},
   "outputs": [
    {
     "data": {
      "text/plain": [
       "array([[10, 40],\n",
       "       [30, 80]])"
      ]
     },
     "execution_count": 11,
     "metadata": {},
     "output_type": "execute_result"
    }
   ],
   "source": [
    "b = np.array([10,20])\n",
    "A*b"
   ]
  },
  {
   "cell_type": "markdown",
   "id": "64244f1a",
   "metadata": {},
   "source": [
    "### 1.1.4. 벡터의 내적과 행렬의 곱"
   ]
  },
  {
   "cell_type": "code",
   "execution_count": 12,
   "id": "c6f53eae",
   "metadata": {},
   "outputs": [
    {
     "data": {
      "text/plain": [
       "32"
      ]
     },
     "execution_count": 12,
     "metadata": {},
     "output_type": "execute_result"
    }
   ],
   "source": [
    "# 벡터의 내적\n",
    "a = np.array([1,2,3])\n",
    "b = np.array([4,5,6])\n",
    "np.dot(a,b)"
   ]
  },
  {
   "cell_type": "code",
   "execution_count": 13,
   "id": "e7468eb4",
   "metadata": {},
   "outputs": [
    {
     "data": {
      "text/plain": [
       "array([[19, 22],\n",
       "       [43, 50]])"
      ]
     },
     "execution_count": 13,
     "metadata": {},
     "output_type": "execute_result"
    }
   ],
   "source": [
    "# 행렬의 곱\n",
    "A= np.array([[1,2],[3,4]])\n",
    "B= np.array([[5,6],[7,8]])\n",
    "np.matmul(A,B)"
   ]
  },
  {
   "cell_type": "code",
   "execution_count": 14,
   "id": "d7cc9d04",
   "metadata": {},
   "outputs": [
    {
     "data": {
      "text/plain": [
       "array([[19, 22],\n",
       "       [43, 50]])"
      ]
     },
     "execution_count": 14,
     "metadata": {},
     "output_type": "execute_result"
    }
   ],
   "source": [
    "np.dot(A,B)"
   ]
  },
  {
   "cell_type": "code",
   "execution_count": 19,
   "id": "14e75fbd",
   "metadata": {},
   "outputs": [
    {
     "data": {
      "text/plain": [
       "array([[-0.54488552, -2.11097247, -1.15754358,  0.7325776 ],\n",
       "       [ 0.44414573,  0.38651467, -1.6479366 , -0.21726729],\n",
       "       [-0.07245139, -0.31320743, -1.68124975,  0.05299818],\n",
       "       [-1.03722035, -3.67423745, -0.76025753,  1.32492446],\n",
       "       [-0.119819  ,  0.52961725, -2.11840151, -0.26094564],\n",
       "       [-0.75232175, -2.71377579, -1.01688497,  0.96129427],\n",
       "       [ 0.42518366,  0.7173227 , -1.81978227, -0.34048358],\n",
       "       [-0.19800201, -0.05252114, -1.89550646, -0.04218461],\n",
       "       [ 0.45588125,  2.76710186, -2.77896039, -1.10653222],\n",
       "       [ 0.88830422, -0.98968628, -0.67268394,  0.28900241]])"
      ]
     },
     "execution_count": 19,
     "metadata": {},
     "output_type": "execute_result"
    }
   ],
   "source": [
    "W1= np.random.randn(2,4)\n",
    "b1= np.random.randn(4)\n",
    "x=  np.random.randn(10,2)\n",
    "h=np.matmul(x,W1)+b1\n",
    "h"
   ]
  },
  {
   "cell_type": "code",
   "execution_count": 20,
   "id": "72f7e7ca",
   "metadata": {},
   "outputs": [
    {
     "data": {
      "text/plain": [
       "array([[0.36705182, 0.10803492, 0.23911392, 0.67537065],\n",
       "       [0.60924643, 0.5954434 , 0.16138802, 0.44589584],\n",
       "       [0.48189507, 0.42233204, 0.15693005, 0.51324645],\n",
       "       [0.26168668, 0.02474109, 0.31859036, 0.78999984],\n",
       "       [0.47008104, 0.62939384, 0.10732112, 0.43513126],\n",
       "       [0.32031561, 0.06216536, 0.26563461, 0.72338087],\n",
       "       [0.60472299, 0.67201718, 0.13946   , 0.41569201],\n",
       "       [0.45066059, 0.48687273, 0.1306179 , 0.48945541],\n",
       "       [0.61203664, 0.94087196, 0.05847176, 0.24851796],\n",
       "       [0.7085401 , 0.27097405, 0.33789612, 0.57175189]])"
      ]
     },
     "execution_count": 20,
     "metadata": {},
     "output_type": "execute_result"
    }
   ],
   "source": [
    "def sigmoid(x):\n",
    "    return 1/(1+np.exp(-x))\n",
    "a = sigmoid(h)\n",
    "a"
   ]
  },
  {
   "cell_type": "code",
   "execution_count": 21,
   "id": "c5754b33",
   "metadata": {},
   "outputs": [
    {
     "data": {
      "text/plain": [
       "array([[-2.05486387,  0.59281129,  0.68141777],\n",
       "       [-2.07479077,  0.72049925,  1.33907583],\n",
       "       [-2.03748916,  0.64961257,  1.10940813],\n",
       "       [-2.2708154 ,  0.99275406,  1.58021751],\n",
       "       [-2.54599444,  1.32405246,  1.44839703],\n",
       "       [-2.0993083 ,  0.83221027,  1.79036356],\n",
       "       [-2.29880339,  0.92965241,  0.84085099],\n",
       "       [-2.4973039 ,  1.22300541,  1.06411256],\n",
       "       [-2.13480672,  0.7790694 ,  1.22152484],\n",
       "       [-2.51226236,  1.2671649 ,  1.29817486]])"
      ]
     },
     "execution_count": 21,
     "metadata": {},
     "output_type": "execute_result"
    }
   ],
   "source": [
    "import numpy as np \n",
    "def sigmoid(x):\n",
    "    return 1/(1+np.exp(-x))\n",
    "\n",
    "x=  np.random.randn(10,2)\n",
    "W1= np.random.randn(2,4)\n",
    "b1= np.random.randn(4)\n",
    "W2= np.random.randn(4,3)\n",
    "b2= np.random.randn(3)\n",
    "h=np.matmul(x,W1)+b1\n",
    "a=sigmoid(h)\n",
    "s=np.matmul(a,W2)+b2\n",
    "s\n"
   ]
  },
  {
   "cell_type": "code",
   "execution_count": 1,
   "id": "1abfb590",
   "metadata": {},
   "outputs": [],
   "source": [
    "import numpy as np \n",
    "D,N = 8,7\n",
    "x = np.random.randn(1,D)\n",
    "y = np.repeat(x,N,axis=0)\n",
    "dy = np.random.randn(N,D)\n",
    "dx = np.sum(dy,axis=0, keepdims=True)"
   ]
  },
  {
   "cell_type": "code",
   "execution_count": 2,
   "id": "c86965ea",
   "metadata": {},
   "outputs": [
    {
     "data": {
      "text/plain": [
       "array([[ 2.50014386,  0.02123954, -1.12133422,  1.93632597, -2.20962429,\n",
       "         1.10626269,  0.90813583, -0.41375417]])"
      ]
     },
     "execution_count": 2,
     "metadata": {},
     "output_type": "execute_result"
    }
   ],
   "source": [
    "x"
   ]
  },
  {
   "cell_type": "code",
   "execution_count": 8,
   "id": "6941622c",
   "metadata": {},
   "outputs": [
    {
     "data": {
      "text/plain": [
       "array([[ 2.50014386,  0.02123954, -1.12133422,  1.93632597, -2.20962429,\n",
       "         1.10626269,  0.90813583, -0.41375417],\n",
       "       [ 2.50014386,  0.02123954, -1.12133422,  1.93632597, -2.20962429,\n",
       "         1.10626269,  0.90813583, -0.41375417],\n",
       "       [ 2.50014386,  0.02123954, -1.12133422,  1.93632597, -2.20962429,\n",
       "         1.10626269,  0.90813583, -0.41375417],\n",
       "       [ 2.50014386,  0.02123954, -1.12133422,  1.93632597, -2.20962429,\n",
       "         1.10626269,  0.90813583, -0.41375417],\n",
       "       [ 2.50014386,  0.02123954, -1.12133422,  1.93632597, -2.20962429,\n",
       "         1.10626269,  0.90813583, -0.41375417],\n",
       "       [ 2.50014386,  0.02123954, -1.12133422,  1.93632597, -2.20962429,\n",
       "         1.10626269,  0.90813583, -0.41375417],\n",
       "       [ 2.50014386,  0.02123954, -1.12133422,  1.93632597, -2.20962429,\n",
       "         1.10626269,  0.90813583, -0.41375417]])"
      ]
     },
     "execution_count": 8,
     "metadata": {},
     "output_type": "execute_result"
    }
   ],
   "source": [
    "y"
   ]
  },
  {
   "cell_type": "code",
   "execution_count": 6,
   "id": "fc4fc2c4",
   "metadata": {},
   "outputs": [
    {
     "data": {
      "text/plain": [
       "(7, 8)"
      ]
     },
     "execution_count": 6,
     "metadata": {},
     "output_type": "execute_result"
    }
   ],
   "source": [
    "dy.shape"
   ]
  },
  {
   "cell_type": "code",
   "execution_count": 9,
   "id": "4e004b48",
   "metadata": {},
   "outputs": [
    {
     "data": {
      "text/plain": [
       "(1, 8)"
      ]
     },
     "execution_count": 9,
     "metadata": {},
     "output_type": "execute_result"
    }
   ],
   "source": [
    "dx.shape"
   ]
  },
  {
   "cell_type": "code",
   "execution_count": 11,
   "id": "0ce69583",
   "metadata": {},
   "outputs": [],
   "source": [
    "import numpy as np \n",
    "D,N = 8,7\n",
    "x = np.random.randn(N,D)\n",
    "y = np.sum(x,axis=0, keepdims=True)\n",
    "\n",
    "dy = np.random.randn(1,D)\n",
    "y = np.repeat(dy,N,axis=0)"
   ]
  },
  {
   "cell_type": "code",
   "execution_count": 12,
   "id": "2ffd09f6",
   "metadata": {},
   "outputs": [],
   "source": [
    "class MatMul:\n",
    "    def __init__(self, W):\n",
    "        self.params = [W]\n",
    "        self.grads = [np.zeros_like(W)]\n",
    "        self.x = None\n",
    "\n",
    "    def forward(self, x):\n",
    "        W, = self.params\n",
    "        out = np.dot(x, W)\n",
    "        self.x = x\n",
    "        return out\n",
    "\n",
    "    def backward(self, dout):\n",
    "        W, = self.params\n",
    "        dx = np.dot(dout, W.T)\n",
    "        dW = np.dot(self.x.T, dout)\n",
    "        self.grads[0][...] = dW\n",
    "        return dx"
   ]
  },
  {
   "cell_type": "code",
   "execution_count": 1,
   "id": "946f7c44",
   "metadata": {},
   "outputs": [],
   "source": [
    "\n",
    "class Sigmoid:\n",
    "    def __init__(self):\n",
    "        self.params, self.grads = [], []\n",
    "        self.out = None\n",
    "\n",
    "    def forward(self, x):\n",
    "        out = 1 / (1 + np.exp(-x))\n",
    "        self.out = out\n",
    "        return out\n",
    "\n",
    "    def backward(self, dout):\n",
    "        dx = dout * (1.0 - self.out) * self.out\n",
    "        return dx"
   ]
  },
  {
   "cell_type": "code",
   "execution_count": 2,
   "id": "814d4499",
   "metadata": {},
   "outputs": [],
   "source": [
    "class Affine:\n",
    "    def __init__(self, W, b):\n",
    "        self.params = [W, b]\n",
    "        self.grads = [np.zeros_like(W), np.zeros_like(b)]\n",
    "        self.x = None\n",
    "\n",
    "    def forward(self, x):\n",
    "        W, b = self.params\n",
    "        out = np.dot(x, W) + b\n",
    "        self.x = x\n",
    "        return out\n",
    "\n",
    "    def backward(self, dout):\n",
    "        W, b = self.params\n",
    "        dx = np.dot(dout, W.T)\n",
    "        dW = np.dot(self.x.T, dout)\n",
    "        db = np.sum(dout, axis=0)\n",
    "\n",
    "        self.grads[0][...] = dW\n",
    "        self.grads[1][...] = db\n",
    "        return dx\n"
   ]
  },
  {
   "cell_type": "code",
   "execution_count": 3,
   "id": "83ab0d7d",
   "metadata": {},
   "outputs": [],
   "source": [
    "class SGD:\n",
    "    '''\n",
    "    확률적 경사하강법(Stochastic Gradient Descent)\n",
    "    '''\n",
    "    def __init__(self, lr=0.01):\n",
    "        self.lr = lr\n",
    "        \n",
    "    def update(self, params, grads):\n",
    "        for i in range(len(params)):\n",
    "            params[i] -= self.lr * grads[i]\n"
   ]
  },
  {
   "cell_type": "code",
   "execution_count": null,
   "id": "5e688160",
   "metadata": {},
   "outputs": [],
   "source": []
  },
  {
   "cell_type": "code",
   "execution_count": null,
   "id": "26f1562e",
   "metadata": {},
   "outputs": [],
   "source": []
  }
 ],
 "metadata": {
  "kernelspec": {
   "display_name": "Python 3",
   "language": "python",
   "name": "python3"
  },
  "language_info": {
   "codemirror_mode": {
    "name": "ipython",
    "version": 3
   },
   "file_extension": ".py",
   "mimetype": "text/x-python",
   "name": "python",
   "nbconvert_exporter": "python",
   "pygments_lexer": "ipython3",
   "version": "3.8.8"
  }
 },
 "nbformat": 4,
 "nbformat_minor": 5
}
